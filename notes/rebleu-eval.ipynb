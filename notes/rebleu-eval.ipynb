{
 "cells": [
  {
   "cell_type": "markdown",
   "metadata": {},
   "source": [
    "# ReBLEU Evaluation\n",
    "\n",
    "aka Better BLEU aka Rewritten BLEU aka Recall included BLEU"
   ]
  },
  {
   "cell_type": "code",
   "execution_count": 1,
   "metadata": {},
   "outputs": [],
   "source": [
    "%load_ext autoreload\n",
    "%autoreload 2"
   ]
  },
  {
   "cell_type": "code",
   "execution_count": 7,
   "metadata": {},
   "outputs": [],
   "source": [
    "import sacrebleu\n",
    "sacrebleu.__version__ \n",
    "assert sacrebleu.__version__ == '1.4.6'"
   ]
  },
  {
   "cell_type": "code",
   "execution_count": 8,
   "metadata": {},
   "outputs": [],
   "source": [
    "from pathlib import Path\n",
    "import csv\n",
    "import collections as coll\n",
    "import logging as log\n",
    "\n",
    "log.basicConfig(level=log.INFO)"
   ]
  },
  {
   "cell_type": "markdown",
   "metadata": {},
   "source": [
    "# Step 1: Read Human annotated scores at system level"
   ]
  },
  {
   "cell_type": "code",
   "execution_count": 14,
   "metadata": {},
   "outputs": [
    {
     "name": "stdout",
     "output_type": "stream",
     "text": [
      "DA2RR\t\t DA-syslevelhybrids.csv  README\n",
      "DA-syslevel.csv  hybrid-scoring\t\t RR-seglevel.csv\n"
     ]
    }
   ],
   "source": [
    "!ls ../wmt/metrics-task/wmt19-metrics-task-package/manual-evaluation/"
   ]
  },
  {
   "cell_type": "code",
   "execution_count": 28,
   "metadata": {},
   "outputs": [
    {
     "name": "stdout",
     "output_type": "stream",
     "text": [
      "en-fi 0.09 online-G.0\n",
      "en-tr 0.206 uedin-nmt.4932\n",
      "en-zh 0.208 SogouKnowing-nmt.5131\n",
      "tr-en 0.294 online-B.0\n",
      "en-fi -0.298 TALP-UPC.4939\n",
      "zh-en -0.209 PROMT-SMT.5125\n",
      "en-de -0.27 C-3MA.4959\n",
      "en-cs -0.236 tuning-task-ufal_8gb.sgm.0\n",
      "en-tr -0.554 jhu-nmt-lattice-rescore.4904\n",
      "en-cs 0.308 uedin-nmt.4956\n"
     ]
    }
   ],
   "source": [
    "wmt19_metrics = Path('../wmt/metrics-task/wmt17-metrics-task-package/')\n",
    "gold_sys_file = wmt19_metrics / 'manual-evaluation/DA-syslevel.csv'\n",
    "!shuf {gold_sys_file} | head"
   ]
  },
  {
   "cell_type": "code",
   "execution_count": 29,
   "metadata": {},
   "outputs": [
    {
     "data": {
      "text/plain": [
       "{'online-B.0': 0.213,\n",
       " 'online-A.0': 0.169,\n",
       " 'KIT.4951': 0.165,\n",
       " 'uedin-nmt.4723': 0.162,\n",
       " 'RWTH-nmt-ensemble.4920': 0.131,\n",
       " 'SYSTRAN.4846': 0.098,\n",
       " 'LIUM-NMT.4733': 0.029,\n",
       " 'TALP-UPC.4830': -0.058,\n",
       " 'online-G.0': -0.072,\n",
       " 'C-3MA.4958': -0.103,\n",
       " 'online-F.0': -0.26}"
      ]
     },
     "execution_count": 29,
     "metadata": {},
     "output_type": "execute_result"
    }
   ],
   "source": [
    "def read_sys_scores(path):\n",
    "    with path.open() as f:\n",
    "        lines = [l.strip().split() for l in f]\n",
    "    rows = lines[1:] # skip header\n",
    "    \n",
    "    mem = coll.defaultdict(dict)\n",
    "    for lang_pair, score, name in rows:\n",
    "        assert name not in mem[lang_pair]  # name is unique\n",
    "        mem[lang_pair][name] = float(score)\n",
    "    return dict(mem)\n",
    "\n",
    "gold_sys_scores = read_sys_scores(gold_sys_file)\n",
    "gold_sys_scores['de-en']"
   ]
  },
  {
   "cell_type": "markdown",
   "metadata": {},
   "source": [
    "# Step 2: Locate system outputs and references"
   ]
  },
  {
   "cell_type": "code",
   "execution_count": 33,
   "metadata": {},
   "outputs": [
    {
     "name": "stdout",
     "output_type": "stream",
     "text": [
      "references  sources  system-outputs\n"
     ]
    }
   ],
   "source": [
    "wmt19_tests = Path('../wmt19/wmt19-submitted-data/txt/')\n",
    "!ls {wmt19_tests}"
   ]
  },
  {
   "cell_type": "code",
   "execution_count": 7,
   "metadata": {},
   "outputs": [
    {
     "name": "stdout",
     "output_type": "stream",
     "text": [
      "../wmt19/wmt19-submitted-data/txt/references/newstest2019-deen-ref.en\n",
      "\n",
      "../wmt19/wmt19-submitted-data/txt/system-outputs/newstest2019/de-en/:\n",
      "newstest2019.dfki-nmt.6478.de-en\n",
      "newstest2019.Facebook_FAIR.6750.de-en\n",
      "newstest2019.JHU.6809.de-en\n",
      "newstest2019.MLLP-UPV.6899.de-en\n",
      "newstest2019.MSRA.MADL.6910.de-en\n",
      "newstest2019.NEU.6801.de-en\n",
      "newstest2019.online-A.0.de-en\n",
      "newstest2019.online-B.0.de-en\n",
      "newstest2019.online-G.0.de-en\n",
      "newstest2019.online-X.0.de-en\n",
      "newstest2019.online-Y.0.de-en\n",
      "newstest2019.PROMT_NMT_DE-EN.6683.de-en\n",
      "newstest2019.RWTH_Aachen_System.6818.de-en\n",
      "newstest2019.TartuNLP-c.6502.de-en\n",
      "newstest2019.UCAM.6461.de-en\n",
      "newstest2019.uedin.6749.de-en\n"
     ]
    }
   ],
   "source": [
    "ls {wmt19_tests}/system-outputs/newstest2019/de-en/ {wmt19_tests}/references/newstest2019-deen-ref.en"
   ]
  },
  {
   "cell_type": "code",
   "execution_count": 34,
   "metadata": {},
   "outputs": [
    {
     "name": "stderr",
     "output_type": "stream",
     "text": [
      "INFO:root:reference : ../wmt19/wmt19-submitted-data/txt/references/newstest2019-encs-ref.cs\n",
      "INFO:root:Found 11 systems for en-cs\n",
      "INFO:root:reference : ../wmt19/wmt19-submitted-data/txt/references/newstest2019-engu-ref.gu\n",
      "INFO:root:Found 11 systems for en-gu\n",
      "INFO:root:reference : ../wmt19/wmt19-submitted-data/txt/references/newstest2019-enlt-ref.lt\n",
      "INFO:root:Found 12 systems for en-lt\n",
      "INFO:root:reference : ../wmt19/wmt19-submitted-data/txt/references/newstest2019-decs-ref.cs\n",
      "INFO:root:Found 11 systems for de-cs\n",
      "INFO:root:reference : ../wmt19/wmt19-submitted-data/txt/references/newstest2019-enkk-ref.kk\n",
      "INFO:root:Found 11 systems for en-kk\n",
      "INFO:root:reference : ../wmt19/wmt19-submitted-data/txt/references/newstest2019-fien-ref.en\n",
      "INFO:root:Found 12 systems for fi-en\n",
      "INFO:root:reference : ../wmt19/wmt19-submitted-data/txt/references/newstest2019-zhen-ref.en\n",
      "INFO:root:Found 15 systems for zh-en\n",
      "INFO:root:reference : ../wmt19/wmt19-submitted-data/txt/references/newstest2019-enzh-ref.zh\n",
      "INFO:root:Found 12 systems for en-zh\n",
      "INFO:root:reference : ../wmt19/wmt19-submitted-data/txt/references/newstest2019-frde-ref.de\n",
      "INFO:root:Found 10 systems for fr-de\n",
      "INFO:root:reference : ../wmt19/wmt19-submitted-data/txt/references/newstest2019-ruen-ref.en\n",
      "INFO:root:Found 14 systems for ru-en\n",
      "INFO:root:reference : ../wmt19/wmt19-submitted-data/txt/references/newstest2019-kken-ref.en\n",
      "INFO:root:Found 11 systems for kk-en\n",
      "INFO:root:reference : ../wmt19/wmt19-submitted-data/txt/references/newstest2019-guen-ref.en\n",
      "INFO:root:Found 12 systems for gu-en\n",
      "WARNING:root:gu-en :: gold truth not found for system: online-B.0\n",
      "INFO:root:reference : ../wmt19/wmt19-submitted-data/txt/references/newstest2019-lten-ref.en\n",
      "INFO:root:Found 11 systems for lt-en\n",
      "INFO:root:reference : ../wmt19/wmt19-submitted-data/txt/references/newstest2019-ende-ref.de\n",
      "INFO:root:Found 22 systems for en-de\n",
      "INFO:root:reference : ../wmt19/wmt19-submitted-data/txt/references/newstest2019-enru-ref.ru\n",
      "INFO:root:Found 12 systems for en-ru\n",
      "INFO:root:reference : ../wmt19/wmt19-submitted-data/txt/references/newstest2019-enfi-ref.fi\n",
      "INFO:root:Found 12 systems for en-fi\n",
      "INFO:root:reference : ../wmt19/wmt19-submitted-data/txt/references/newstest2019-deen-ref.en\n",
      "INFO:root:Found 16 systems for de-en\n",
      "INFO:root:reference : ../wmt19/wmt19-submitted-data/txt/references/newstest2019-defr-ref.fr\n",
      "INFO:root:Found 11 systems for de-fr\n"
     ]
    }
   ],
   "source": [
    "def get_outputs(lang_pair):\n",
    "    src, tgt = lang_pair.split('-')\n",
    "    ref = wmt19_tests / f'references/newstest2019-{src}{tgt}-ref.{tgt}'\n",
    "    log.info(f'reference : {ref}')\n",
    "    assert ref.exists()\n",
    "    out_dir = wmt19_tests / f'system-outputs/newstest2019/{src}-{tgt}/'\n",
    "    sys_outs = list(out_dir.glob(f'*.{src}-{tgt}'))\n",
    "    log.info(f'Found {len(sys_outs)} systems for {lang_pair}')\n",
    "    sys_names = ['.'.join(f.name.split('.')[1:-1]) for f in sys_outs]\n",
    "    assert len(set(sys_names)) == len(sys_names) # unique\n",
    "    sys_outs = list(zip(sys_names, sys_outs))\n",
    "    return ref, sys_outs\n",
    "\n",
    "for langs in gold_sys_scores.keys():\n",
    "    ref, sys_outs = get_outputs(langs)\n",
    "    for i, (sys_name, out_path) in enumerate(sys_outs):\n",
    "        # check human scores ie golden truth exists\n",
    "        if sys_name not in gold_sys_scores[langs]:\n",
    "            log.warning(f'{langs} :: gold truth not found for system: {sys_name}')    "
   ]
  },
  {
   "cell_type": "code",
   "execution_count": 35,
   "metadata": {},
   "outputs": [],
   "source": [
    "from sacrebleu import corpus_bleu\n",
    "from sacrebleu.rebleu import corpus_rebleu\n",
    "\n",
    "def read_lines(path):\n",
    "    with path.open(encoding='utf8', errors='ignore') as f:\n",
    "        return [line.strip() for line in f]"
   ]
  },
  {
   "cell_type": "code",
   "execution_count": 36,
   "metadata": {},
   "outputs": [
    {
     "data": {
      "text/plain": [
       "dict_keys(['en-cs', 'en-gu', 'en-lt', 'de-cs', 'en-kk', 'fi-en', 'zh-en', 'en-zh', 'fr-de', 'ru-en', 'kk-en', 'gu-en', 'lt-en', 'en-de', 'en-ru', 'en-fi', 'de-en', 'de-fr'])"
      ]
     },
     "execution_count": 36,
     "metadata": {},
     "output_type": "execute_result"
    }
   ],
   "source": [
    "gold_sys_scores.keys()"
   ]
  },
  {
   "cell_type": "code",
   "execution_count": 46,
   "metadata": {},
   "outputs": [
    {
     "name": "stdout",
     "output_type": "stream",
     "text": [
      "cpus 36\n"
     ]
    },
    {
     "name": "stderr",
     "output_type": "stream",
     "text": [
      "INFO:root:reference : ../wmt19/wmt19-submitted-data/txt/references/newstest2019-encs-ref.cs\n",
      "INFO:root:Found 11 systems for en-cs\n",
      "INFO:root:reference : ../wmt19/wmt19-submitted-data/txt/references/newstest2019-engu-ref.gu\n",
      "INFO:root:Found 11 systems for en-gu\n",
      "INFO:root:reference : ../wmt19/wmt19-submitted-data/txt/references/newstest2019-enlt-ref.lt\n",
      "INFO:root:Found 12 systems for en-lt\n",
      "INFO:root:reference : ../wmt19/wmt19-submitted-data/txt/references/newstest2019-decs-ref.cs\n",
      "INFO:root:Found 11 systems for de-cs\n"
     ]
    },
    {
     "name": "stdout",
     "output_type": "stream",
     "text": [
      "en-lt\ttilde-nc-nmt.6696\t18.99\t0.3880\t0.3461\t0.1870\n",
      "en-lt\tMSRA.MASS.6954\t20.08\t0.3870\t0.3429\t0.1855\n",
      "en-lt\teTranslation.6836\t16.54\t0.0360\t0.3199\t0.1642\n",
      "en-lt\tonline-X.0\t9.62\t-0.6660\t0.2396\t0.1020\n",
      "en-lt\tNEU.6760\t16.95\t-0.0540\t0.3144\t0.1614\n",
      "en-lt\tGTCOM-Primary.7001\t18.11\t0.1550\t0.3296\t0.1766\n",
      "en-lt\ttilde-c-nmt.6695\t18.59\t0.2620\t0.3385\t0.1812\n",
      "en-lt\tTartuNLP-c.6510\t12.33\t-0.3830\t0.2670\t0.1147\n",
      "en-lt\tMSRA.MASS.6931\t19.08\t0.2590\t0.3370\t0.1781\n",
      "en-lt\tonline-B.0\t14.98\t-0.0610\t0.2936\t0.1419\n"
     ]
    },
    {
     "name": "stderr",
     "output_type": "stream",
     "text": [
      "INFO:root:reference : ../wmt19/wmt19-submitted-data/txt/references/newstest2019-enkk-ref.kk\n",
      "INFO:root:Found 11 systems for en-kk\n"
     ]
    },
    {
     "name": "stdout",
     "output_type": "stream",
     "text": [
      "en-lt\tonline-A.0\t9.05\t-0.6200\t0.2508\t0.1048\n",
      "en-lt\tonline-G.0\t8.42\t-0.8050\t0.2383\t0.0982\n",
      "en-gu\tonline-B.0\t61.76\t0.6630\t0.6560\t0.5452\n",
      "en-gu\tonline-X.0\t10.93\t-0.5020\t0.2744\t0.1025\n",
      "en-gu\tCUNI-T2T-transfer-engu.6466\t14.35\t0.2540\t0.3579\t0.1658\n",
      "en-gu\tJu_Saarland_clean_num_135_bpe.6617\t21.99\t-0.0790\t0.3609\t0.1622\n",
      "en-gu\tMSRA.CrossBERT.6991\t16.57\t0.3180\t0.3338\t0.1429\n",
      "en-gu\tonline-G.0\t9.06\t-0.4900\t0.2903\t0.1320\n",
      "en-gu\tUdS-DFKI.6866\t7.04\t-0.7180\t0.2488\t0.0894\n",
      "en-gu\tUEDIN.6849\t16.27\t0.3050\t0.3370\t0.1540\n",
      "en-gu\tNICT.6604\t10.33\t-0.4650\t0.2833\t0.1008\n",
      "en-gu\tGTCOM-Primary.6970\t28.69\t0.5970\t0.4211\t0.2440\n"
     ]
    },
    {
     "name": "stderr",
     "output_type": "stream",
     "text": [
      "INFO:root:reference : ../wmt19/wmt19-submitted-data/txt/references/newstest2019-fien-ref.en\n",
      "INFO:root:Found 12 systems for fi-en\n"
     ]
    },
    {
     "name": "stdout",
     "output_type": "stream",
     "text": [
      "en-gu\tIITP-MT.6827\t8.25\t-0.4580\t0.2653\t0.0880\n",
      "de-cs\tUnsupervised.de-cs.6935\t16.06\t-0.4050\t0.3239\t0.1415\n",
      "en-cs\tCUNI-Transformer-T2T-2019.6851\t29.39\t0.3880\t0.4433\t0.2656\n",
      "en-cs\tCUNI-Transformer-T2T-2018.6457\t29.86\t0.4010\t0.4473\t0.2696\n",
      "en-cs\tCUNI-DocTransformer-T2T.6751\t29.94\t0.4020\t0.4480\t0.2724\n",
      "en-cs\tonline-B.0\t21.76\t-0.3360\t0.3891\t0.2080\n",
      "en-kk\tonline-G.0\t13.19\t0.0780\t0.2811\t0.1467\n",
      "en-kk\trug_enkk_bpe.6804\t10.30\t-0.0490\t0.2600\t0.1271\n",
      "en-kk\tNICT.6550\t6.43\t-0.4930\t0.2134\t0.0844\n",
      "en-cs\tonline-G.0\t20.08\t-0.3000\t0.3749\t0.1952\n",
      "en-cs\tonline-Y.0\t23.53\t-0.1560\t0.4014\t0.2210\n",
      "en-cs\tCUNI-DocTransformer-Marian.6922\t28.14\t0.2230\t0.4308\t0.2532\n",
      "de-cs\tCAiRE.6949\t10.24\t-0.8070\t0.2772\t0.0978\n"
     ]
    },
    {
     "name": "stderr",
     "output_type": "stream",
     "text": [
      "INFO:root:reference : ../wmt19/wmt19-submitted-data/txt/references/newstest2019-zhen-ref.en\n",
      "INFO:root:Found 15 systems for zh-en\n"
     ]
    },
    {
     "name": "stdout",
     "output_type": "stream",
     "text": [
      "en-cs\tuedin.6667\t27.89\t0.2060\t0.4383\t0.2605\n",
      "en-cs\tTartuNLP-c.6633\t22.82\t-0.1950\t0.3955\t0.2153\n",
      "en-cs\tonline-A.0\t18.11\t-0.5940\t0.3557\t0.1743\n",
      "en-cs\tonline-X.0\t15.01\t-0.6510\t0.3273\t0.1476\n",
      "en-kk\tonline-B.0\t16.89\t0.2430\t0.3116\t0.1713\n",
      "en-kk\tNEU.6755\t11.11\t0.1260\t0.2655\t0.1287\n",
      "en-kk\tCUNI-T2T-transfer-enkk.6554\t8.70\t0.0970\t0.2466\t0.1145\n",
      "en-kk\tMSRA.CrossBERT.6874\t10.62\t0.1080\t0.2563\t0.1160\n",
      "en-kk\ttalp_upc_2019_enkk.6355\t6.45\t-0.3280\t0.2217\t0.0919\n",
      "en-kk\tUAlacant_-_NMT.6718\t9.97\t0.2620\t0.2615\t0.1284\n",
      "en-kk\tUAlacant_-_NMT+RBMT.6722\t9.90\t0.2220\t0.2593\t0.1275\n",
      "en-kk\tDBMS-KU_ENKK.6730\t0.95\t-1.3950\t0.1173\t0.0296\n"
     ]
    },
    {
     "name": "stderr",
     "output_type": "stream",
     "text": [
      "INFO:root:reference : ../wmt19/wmt19-submitted-data/txt/references/newstest2019-enzh-ref.zh\n",
      "INFO:root:Found 12 systems for en-zh\n"
     ]
    },
    {
     "name": "stdout",
     "output_type": "stream",
     "text": [
      "de-cs\tUnsupervised.de-cs.6929\t17.75\t-0.3280\t0.3363\t0.1513\n",
      "de-cs\tNICT.6938\t20.05\t0.3670\t0.3688\t0.1879\n",
      "de-cs\tonline-G.0\t17.87\t0.3190\t0.3601\t0.1794\n",
      "de-cs\tonline-A.0\t16.44\t0.1340\t0.3436\t0.1635\n",
      "de-cs\tCUNI-Unsupervised-NER-post.6934\t14.07\t-0.1650\t0.3357\t0.1529\n",
      "de-cs\tonline-Y.0\t21.02\t0.4260\t0.3808\t0.2013\n",
      "de-cs\tonline-B.0\t19.54\t0.3860\t0.3725\t0.1921\n",
      "de-cs\tNEU_KingSoft.6766\t18.86\t0.1790\t0.3554\t0.1722\n",
      "de-cs\tlmu-unsup-nmt-de-cs.6845\t17.03\t-0.0990\t0.3387\t0.1533\n",
      "fi-en\tonline-Y.0\t29.86\t0.2650\t0.5020\t0.3126\n",
      "fi-en\tapertium-fin-eng-unconstrained-fien.6449\t7.56\t-0.5160\t0.3611\t0.1711\n",
      "fi-en\tparfda.6526\t19.20\t-0.2090\t0.4508\t0.2387\n"
     ]
    },
    {
     "name": "stderr",
     "output_type": "stream",
     "text": [
      "INFO:root:reference : ../wmt19/wmt19-submitted-data/txt/references/newstest2019-frde-ref.de\n",
      "INFO:root:Found 10 systems for fr-de\n"
     ]
    },
    {
     "name": "stdout",
     "output_type": "stream",
     "text": [
      "fi-en\tUSYD.6995\t33.03\t0.2450\t0.5159\t0.3213\n",
      "fi-en\tTartuNLP-c.6905\t23.91\t-0.0530\t0.4620\t0.2461\n",
      "fi-en\tonline-X.0\t22.19\t-0.0710\t0.4428\t0.2247\n",
      "fi-en\tonline-A.0\t23.85\t0.0120\t0.4650\t0.2643\n",
      "fi-en\tHelsinki_NLP.6889\t26.67\t0.1050\t0.4781\t0.2812\n",
      "fi-en\tonline-B.0\t26.97\t0.1070\t0.4872\t0.2885\n",
      "fi-en\tGTCOM-Primary.6946\t31.45\t0.2610\t0.5138\t0.3343\n",
      "fi-en\tonline-G.0\t21.00\t-0.0440\t0.4538\t0.2574\n",
      "fi-en\tMSRA.NAO.6983\t31.89\t0.2850\t0.5170\t0.3359\n",
      "zh-en\tApprentice-c.6706\t16.94\t-0.9570\t0.4759\t0.2198\n"
     ]
    },
    {
     "name": "stderr",
     "output_type": "stream",
     "text": [
      "INFO:root:reference : ../wmt19/wmt19-submitted-data/txt/references/newstest2019-ruen-ref.en\n",
      "INFO:root:Found 14 systems for ru-en\n"
     ]
    },
    {
     "name": "stdout",
     "output_type": "stream",
     "text": [
      "zh-en\tBaidu-system.6940\t37.97\t0.2950\t0.5562\t0.3617\n",
      "zh-en\tMSRA.MASS.6942\t38.29\t0.1950\t0.5705\t0.3735\n",
      "zh-en\tonline-X.0\t21.44\t-0.4830\t0.4693\t0.2252\n",
      "fr-de\tonline-A.0\t26.75\t-0.0390\t0.4415\t0.2345\n",
      "zh-en\tKSAI-system.6927\t37.46\t0.2660\t0.5509\t0.3527\n",
      "zh-en\tonline-Y.0\t28.71\t0.0490\t0.5276\t0.2985\n",
      "fr-de\teTranslation.6262\t32.71\t0.2460\t0.4856\t0.2793\n",
      "fr-de\tonline-Y.0\t25.44\t0.0010\t0.4273\t0.2215\n",
      "fr-de\tMLLP-UPV.6654\t27.47\t0.0370\t0.4433\t0.2394\n",
      "fr-de\tLIUM.6720\t29.69\t0.0820\t0.4605\t0.2587\n",
      "fr-de\tMSRA.MADL.6893\t35.04\t0.2670\t0.4973\t0.2983\n",
      "fr-de\tonline-G.0\t24.22\t-0.0180\t0.4229\t0.2114\n",
      "zh-en\tNICT.6814\t30.99\t0.0010\t0.5062\t0.2833\n",
      "fr-de\tonline-X.0\t22.62\t-0.4100\t0.4058\t0.1983\n",
      "fr-de\tTartuNLP-c.6514\t24.81\t-0.0980\t0.4260\t0.2123\n"
     ]
    },
    {
     "name": "stderr",
     "output_type": "stream",
     "text": [
      "INFO:root:reference : ../wmt19/wmt19-submitted-data/txt/references/newstest2019-kken-ref.en\n",
      "INFO:root:Found 11 systems for kk-en\n"
     ]
    },
    {
     "name": "stdout",
     "output_type": "stream",
     "text": [
      "zh-en\tNEU.6832\t34.19\t0.1930\t0.5449\t0.3402\n",
      "zh-en\tMSRA.MASS.6996\t39.33\t0.2030\t0.5726\t0.3775\n",
      "zh-en\tonline-B.0\t42.21\t0.1610\t0.5850\t0.3746\n",
      "zh-en\tonline-G.0\t25.24\t-0.2020\t0.5104\t0.2759\n",
      "zh-en\tonline-A.0\t28.84\t-0.0650\t0.5258\t0.3096\n",
      "en-zh\tonline-B.0\t36.91\t-0.1250\t0.5840\t0.4651\n",
      "en-zh\tonline-X.0\t24.26\t-0.5530\t0.4937\t0.2822\n",
      "zh-en\tBTRANS-ensemble.6992\t33.84\t0.1030\t0.5422\t0.3375\n",
      "zh-en\tUEDIN.6530\t27.65\t0.0540\t0.5152\t0.2933\n",
      "en-zh\tUEDIN.6158\t34.38\t0.0170\t0.5699\t0.3868\n",
      "en-zh\tonline-G.0\t30.17\t-0.2620\t0.5580\t0.4179\n",
      "en-zh\tNICT.6817\t34.47\t0.0000\t0.5472\t0.3141\n"
     ]
    },
    {
     "name": "stderr",
     "output_type": "stream",
     "text": [
      "INFO:root:reference : ../wmt19/wmt19-submitted-data/txt/references/newstest2019-guen-ref.en\n",
      "INFO:root:Found 12 systems for gu-en\n"
     ]
    },
    {
     "name": "stdout",
     "output_type": "stream",
     "text": [
      "zh-en\tBTRANS.6825\t33.44\t0.1860\t0.5399\t0.3350\n",
      "en-zh\tBTRANS.6821\t38.30\t0.0090\t0.5753\t0.4372\n",
      "en-zh\tonline-Y.0\t32.38\t-0.2180\t0.5609\t0.3726\n",
      "en-zh\tonline-A.0\t31.24\t0.0520\t0.5248\t0.3387\n",
      "en-zh\tNEU.6830\t39.88\t0.2090\t0.5872\t0.4252\n",
      "en-zh\tKSAI-system.6982\t42.41\t0.3060\t0.5961\t0.4620\n",
      "kk-en\tUMD.6736\t9.20\t-0.4770\t0.3499\t0.1225\n",
      "en-zh\tBaidu-system.6932\t42.37\t0.2800\t0.6040\t0.5011\n",
      "kk-en\tonline-B.0\t31.99\t0.2700\t0.4990\t0.3116\n",
      "en-zh\txzl-nmt.6847\t35.60\t0.0420\t0.5781\t0.4104\n"
     ]
    },
    {
     "name": "stderr",
     "output_type": "stream",
     "text": [
      "WARNING:root:online-B.0 doesnt have gold truth; skipped\n",
      "INFO:root:reference : ../wmt19/wmt19-submitted-data/txt/references/newstest2019-lten-ref.en\n",
      "INFO:root:Found 11 systems for lt-en\n"
     ]
    },
    {
     "name": "stdout",
     "output_type": "stream",
     "text": [
      "kk-en\tNEU.6753\t30.48\t0.2180\t0.4841\t0.3060\n",
      "kk-en\tCUNI-T2T-transfer-kken.6436\t18.48\t0.0030\t0.4285\t0.2221\n",
      "fr-de\tonline-B.0\t26.40\t-0.0340\t0.4388\t0.2296\n",
      "kk-en\trug_kken_morfessor.6677\t27.94\t0.1890\t0.4660\t0.2876\n",
      "kk-en\tNRC-CNRC.6895\t24.94\t0.0920\t0.4443\t0.2576\n",
      "kk-en\tNICT.6770\t26.21\t0.0640\t0.4494\t0.2606\n",
      "gu-en\tNICT.6603\t17.22\t0.0440\t0.3956\t0.1956\n",
      "gu-en\tUEDIN.6534\t21.45\t0.1260\t0.4129\t0.2195\n",
      "gu-en\tGTCOM-Primary.6969\t17.48\t0.1000\t0.4047\t0.2042\n",
      "gu-en\tJu_Saarland.6525\t11.85\t-0.5980\t0.3599\t0.1324\n"
     ]
    },
    {
     "name": "stderr",
     "output_type": "stream",
     "text": [
      "INFO:root:reference : ../wmt19/wmt19-submitted-data/txt/references/newstest2019-ende-ref.de\n",
      "INFO:root:Found 22 systems for en-de\n"
     ]
    },
    {
     "name": "stdout",
     "output_type": "stream",
     "text": [
      "kk-en\tonline-G.0\t25.72\t0.1330\t0.4481\t0.2592\n",
      "gu-en\tCUNI-T2T-transfer-guen.6431\t17.45\t0.0900\t0.3992\t0.1957\n",
      "kk-en\ttalp_upc_2019_kken.6657\t24.92\t0.1130\t0.4512\t0.2626\n",
      "kk-en\tDBMS-KU_KKEN.6726\t3.40\t-1.0580\t0.2276\t0.0441\n",
      "kk-en\tFrank_s_MT.6127\t19.78\t0.0660\t0.4262\t0.2564\n",
      "gu-en\taylien_mt_gu-en_multilingual.6826\t16.79\t0.0660\t0.4082\t0.2072\n",
      "gu-en\tIITP-MT.6824\t9.38\t-0.1920\t0.3419\t0.1357\n",
      "ru-en\tonline-G.0\t38.51\t0.1340\t0.5387\t0.3562\n",
      "ru-en\tafrl-syscomb19.6782\t37.20\t0.0120\t0.5367\t0.3440\n",
      "ru-en\tonline-B.0\t45.28\t0.1210\t0.5818\t0.4084\n",
      "ru-en\tNICT.6561\t28.21\t-0.3030\t0.4680\t0.2308\n",
      "ru-en\tafrl-ewc.6659\t34.31\t-0.0390\t0.5136\t0.3084\n",
      "ru-en\tonline-X.0\t30.42\t-0.0970\t0.4854\t0.2604\n",
      "ru-en\tFacebook_FAIR.6937\t39.99\t0.1560\t0.5556\t0.3774\n",
      "gu-en\tNEU.6756\t24.90\t0.2100\t0.4425\t0.2505\n",
      "ru-en\tTartuNLP-u.6650\t30.76\t-0.0400\t0.4962\t0.2810\n",
      "ru-en\tonline-A.0\t35.57\t0.0290\t0.5240\t0.3215\n",
      "ru-en\tNEU.6803\t40.00\t0.1150\t0.5560\t0.3791\n",
      "gu-en\tonline-G.0\t8.85\t-0.1890\t0.3651\t0.1802\n",
      "ru-en\teTranslation.6598\t37.43\t0.1220\t0.5389\t0.3450\n",
      "ru-en\tMSRA.SCA.6976\t40.08\t0.1020\t0.5597\t0.3839\n",
      "ru-en\tonline-Y.0\t37.05\t0.0760\t0.5367\t0.3423\n",
      "gu-en\tIIITH-MT.6688\t6.76\t-0.2960\t0.2919\t0.0861\n"
     ]
    },
    {
     "name": "stderr",
     "output_type": "stream",
     "text": [
      "INFO:root:reference : ../wmt19/wmt19-submitted-data/txt/references/newstest2019-enru-ref.ru\n",
      "INFO:root:Found 12 systems for en-ru\n"
     ]
    },
    {
     "name": "stdout",
     "output_type": "stream",
     "text": [
      "gu-en\tUdS-DFKI.6861\t9.55\t-0.2770\t0.3391\t0.1433\n",
      "ru-en\trerank-re.6540\t37.53\t0.0840\t0.5400\t0.3517\n",
      "lt-en\tonline-A.0\t24.35\t-0.0560\t0.4677\t0.2689\n",
      "lt-en\tonline-B.0\t29.46\t0.1070\t0.5147\t0.3326\n",
      "lt-en\tTartuNLP-c.6908\t24.14\t-0.0590\t0.4702\t0.2637\n",
      "lt-en\tGTCOM-Primary.6998\t36.29\t0.2340\t0.5438\t0.3687\n",
      "lt-en\tMSRA.MASS.6945\t35.48\t0.2060\t0.5316\t0.3601\n",
      "lt-en\tonline-X.0\t17.57\t-0.3960\t0.4254\t0.2032\n",
      "lt-en\ttilde-c-nmt.6876\t30.26\t0.2020\t0.5195\t0.3329\n",
      "lt-en\tJUMT.6616\t16.57\t-0.3370\t0.4243\t0.1921\n",
      "lt-en\tonline-G.0\t19.49\t-0.2840\t0.4445\t0.2453\n"
     ]
    },
    {
     "name": "stderr",
     "output_type": "stream",
     "text": [
      "INFO:root:reference : ../wmt19/wmt19-submitted-data/txt/references/newstest2019-enfi-ref.fi\n",
      "INFO:root:Found 12 systems for en-fi\n"
     ]
    },
    {
     "name": "stdout",
     "output_type": "stream",
     "text": [
      "lt-en\ttilde-nc-nmt.6881\t31.55\t0.2160\t0.5316\t0.3492\n",
      "lt-en\tNEU.6759\t34.25\t0.2130\t0.5259\t0.3535\n",
      "en-de\tMicrosoft-WMT19-sentence-level.6785\t42.97\t0.0940\t0.5518\t0.3642\n",
      "en-de\tPROMT_NMT_EN-DE.6674\t37.94\t0.0010\t0.5107\t0.3089\n",
      "en-de\tJHU.6819\t42.52\t0.0810\t0.5417\t0.3472\n",
      "en-de\tonline-Y.0\t42.02\t0.0380\t0.5465\t0.3582\n",
      "en-de\tonline-X.0\t29.48\t-0.4000\t0.4515\t0.2361\n",
      "en-de\tHelsinki-NLP.6820\t41.41\t0.0770\t0.5393\t0.3497\n",
      "en-de\tTartuNLP-c.6508\t36.43\t-0.1320\t0.5005\t0.2971\n",
      "en-de\tMLLP-UPV.6651\t41.72\t0.1890\t0.5373\t0.3504\n",
      "en-de\tonline-G.0\t35.14\t-0.1190\t0.4986\t0.2969\n",
      "en-de\tlmu-ctx-tf-single-en-de.6981\t40.31\t0.0100\t0.5329\t0.3408\n"
     ]
    },
    {
     "name": "stderr",
     "output_type": "stream",
     "text": [
      "INFO:root:reference : ../wmt19/wmt19-submitted-data/txt/references/newstest2019-deen-ref.en\n",
      "INFO:root:Found 16 systems for de-en\n"
     ]
    },
    {
     "name": "stdout",
     "output_type": "stream",
     "text": [
      "en-de\tonline-A.0\t41.03\t-0.0720\t0.5301\t0.3377\n",
      "en-de\tUdS-DFKI.6871\t38.65\t-0.1290\t0.5208\t0.3263\n",
      "en-de\tUCAM.6731\t43.01\t0.2130\t0.5486\t0.3619\n",
      "en-de\tMSRA.MADL.6926\t44.93\t0.2140\t0.5586\t0.3771\n",
      "en-de\tonline-B.0\t41.24\t0.0940\t0.5415\t0.3581\n",
      "en-de\tMicrosoft-WMT19-document-level.6808\t43.85\t0.2960\t0.5549\t0.3689\n",
      "en-de\tMicrosoft-WMT19-sentence_document.6974\t43.92\t0.3110\t0.5554\t0.3698\n",
      "en-de\tFacebook_FAIR.6862\t42.67\t0.3470\t0.5469\t0.3617\n",
      "en-de\ten_de_task.6790\t16.85\t-1.7690\t0.3797\t0.1440\n",
      "en-de\tdfki-nmt.6479\t41.57\t0.1190\t0.5334\t0.3381\n",
      "en-de\tNEU.6763\t43.52\t0.2080\t0.5502\t0.3665\n",
      "en-de\teTranslation.6823\t41.90\t0.1300\t0.5432\t0.3485\n",
      "en-ru\tNEU.6773\t33.98\t0.2230\t0.4577\t0.2640\n",
      "en-ru\trerank-er.6572\t27.75\t-0.1880\t0.4195\t0.2104\n",
      "en-ru\tTartuNLP-u.6645\t24.84\t-0.3100\t0.3894\t0.1843\n",
      "en-ru\tPROMT_NMT_EN-RU.6989\t30.67\t0.2190\t0.4398\t0.2412\n"
     ]
    },
    {
     "name": "stderr",
     "output_type": "stream",
     "text": [
      "INFO:root:reference : ../wmt19/wmt19-submitted-data/txt/references/newstest2019-defr-ref.fr\n",
      "INFO:root:Found 11 systems for de-fr\n"
     ]
    },
    {
     "name": "stdout",
     "output_type": "stream",
     "text": [
      "en-fi\tMSRA.NAO.6985\t27.43\t0.5700\t0.3979\t0.2243\n",
      "en-ru\tFacebook_FAIR.6724\t36.34\t0.5060\t0.4782\t0.2889\n",
      "en-ru\tonline-B.0\t30.53\t0.2690\t0.4509\t0.2499\n",
      "en-ru\tonline-X.0\t23.12\t-0.3630\t0.3774\t0.1803\n",
      "en-ru\tonline-G.0\t32.70\t0.2790\t0.4591\t0.2612\n",
      "en-fi\tonline-B.0\t20.48\t0.0370\t0.3378\t0.1649\n",
      "en-ru\tNICT.6563\t13.91\t-1.2700\t0.3303\t0.1118\n",
      "en-ru\tonline-Y.0\t28.93\t0.1560\t0.4309\t0.2320\n",
      "en-ru\tUSTC-MCC.6795\t34.67\t0.3320\t0.4656\t0.2754\n",
      "en-ru\tonline-A.0\t22.77\t-0.2680\t0.3914\t0.1882\n",
      "en-fi\tTartuNLP-c.6509\t18.48\t-0.1250\t0.3231\t0.1500\n",
      "de-en\tonline-B.0\t45.20\t0.1210\t0.5958\t0.4488\n",
      "de-en\tNEU.6801\t40.51\t0.0390\t0.5606\t0.3978\n",
      "de-en\tMSRA.MADL.6910\t42.79\t0.1360\t0.5749\t0.4187\n",
      "en-fi\tNICT.6359\t23.23\t0.1990\t0.3625\t0.1875\n",
      "en-fi\tonline-X.0\t12.34\t-0.3980\t0.2505\t0.0949\n",
      "de-en\tonline-A.0\t36.41\t0.0500\t0.5398\t0.3593\n",
      "de-en\tFacebook_FAIR.6750\t40.75\t0.1460\t0.5648\t0.4088\n",
      "de-en\tuedin.6749\t34.97\t0.0110\t0.5347\t0.3462\n",
      "de-en\tonline-X.0\t28.57\t-0.1920\t0.4746\t0.2586\n",
      "de-en\tMLLP-UPV.6899\t39.31\t0.0670\t0.5526\t0.3874\n",
      "de-en\tTartuNLP-c.6502\t33.92\t0.0060\t0.5266\t0.3438\n",
      "de-en\tonline-Y.0\t38.94\t0.0090\t0.5535\t0.3762\n",
      "en-fi\tonline-Y.0\t20.41\t0.2750\t0.3549\t0.1829\n",
      "de-en\tRWTH_Aachen_System.6818\t39.56\t0.1360\t0.5564\t0.3916\n",
      "en-fi\tGTCOM-Primary.6917\t25.48\t0.5860\t0.3899\t0.2146\n",
      "en-fi\tHelsinki_NLP.6860\t20.77\t0.0900\t0.3461\t0.1718\n",
      "en-fi\tonline-A.0\t14.03\t-0.3840\t0.2853\t0.1191\n",
      "en-fi\tHelsinki_NLP__rule-based_.6636\t8.88\t-0.5220\t0.2547\t0.0958\n",
      "en-fi\tonline-G.0\t18.34\t0.0720\t0.3306\t0.1595\n",
      "de-en\tUCAM.6461\t39.72\t0.0660\t0.5546\t0.3910\n",
      "de-en\tJHU.6809\t38.06\t0.0860\t0.5471\t0.3810\n",
      "en-fi\tapertium-fin-eng-unconstrained-en-fi.6448\t4.28\t-1.2600\t0.1887\t0.0526\n",
      "de-en\tdfki-nmt.6478\t38.77\t0.0660\t0.5477\t0.3722\n",
      "de-en\tonline-G.0\t34.34\t-0.0510\t0.5215\t0.3419\n",
      "de-en\tPROMT_NMT_DE-EN.6683\t32.08\t-0.1280\t0.5037\t0.3097\n",
      "de-fr\tKyoto_University_T2T.6679\t34.30\t0.1640\t0.5086\t0.2901\n",
      "de-fr\tMSRA.MADL.6888\t37.26\t0.2490\t0.5158\t0.3140\n",
      "de-fr\tTartuNLP-c.6897\t30.66\t-0.1040\t0.4846\t0.2590\n",
      "de-fr\tonline-Y.0\t33.44\t0.0190\t0.4946\t0.2798\n",
      "de-fr\tonline-X.0\t26.66\t-0.4560\t0.4532\t0.2354\n",
      "de-fr\tonline-A.0\t29.63\t-0.1940\t0.4707\t0.2501\n",
      "de-fr\tMLLP-UPV.6647\t34.53\t0.2300\t0.5001\t0.2939\n",
      "de-fr\tLIUM.6719\t33.36\t0.1290\t0.4927\t0.2835\n",
      "de-fr\tlingua_custodia_primary.6690\t35.61\t0.1600\t0.5056\t0.2934\n",
      "de-fr\tonline-G.0\t26.90\t-0.2400\t0.4643\t0.2406\n",
      "de-fr\tonline-B.0\t31.96\t0.0380\t0.4957\t0.2774\n",
      "Done\n"
     ]
    }
   ],
   "source": [
    "import multiprocessing as mp\n",
    "import os\n",
    "cpu_count = mp.cpu_count()\n",
    "if 'SLURM_CPUS_ON_NODE' in os.environ:\n",
    "    cpu_count = int(os.environ['SLURM_CPUS_ON_NODE'])\n",
    "print('cpus', cpu_count)\n",
    "\n",
    "selected_langs = ['de-en', 'en-de', 'en-ru', 'ru-en']\n",
    "selected_langs = gold_sys_scores.keys()\n",
    "\n",
    "def read_args():\n",
    "    #for langs in gold_sys_scores.keys():\n",
    "    for langs in selected_langs:\n",
    "        ref, sys_outs = get_outputs(langs)\n",
    "        ref_lines = [read_lines(ref)]\n",
    "        for (sys_name, sys_path) in sys_outs:\n",
    "            if sys_name not in gold_sys_scores[langs]:\n",
    "                log.warning(f'{sys_name} doesnt have gold truth; skipped')\n",
    "                continue\n",
    "            yield langs, sys_name, sys_path, ref_lines\n",
    "\n",
    "def bleu_scores(args):\n",
    "    langs, sys_name, sys_path, ref_lines = args\n",
    "    sys_lines = read_lines(sys_path)\n",
    "    tokenize = '13a'\n",
    "    if '-zh' in langs:\n",
    "        tokenize = 'zh'\n",
    "    elif '-gu' in langs:\n",
    "        tokenize = 'intl'\n",
    "    bleu = corpus_bleu(sys_lines, ref_lines, force=True, tokenize=tokenize)\n",
    "    rebleu_micro = corpus_rebleu(sys_lines, ref_lines, force=True, average='micro', tokenize=tokenize)\n",
    "    rebleu_macro = corpus_rebleu(sys_lines, ref_lines, force=True, average='macro', tokenize=tokenize)\n",
    "    gold_score = gold_sys_scores[langs][sys_name]\n",
    "    print(f'{langs}\\t{sys_name}\\t{bleu.score:.2f}\\t{gold_score:.4f}\\t{rebleu_micro.score:.4f}\\t{rebleu_macro.score:.4f}')\n",
    "    return langs, sys_name, {\n",
    "        'sacre_bleu': bleu.score,\n",
    "        'gold': gold_score,\n",
    "        'rebleu_micro': rebleu_micro.score,\n",
    "        'rebleu_macro': rebleu_macro.score\n",
    "    }\n",
    "\n",
    "sys_scores = coll.defaultdict(lambda: coll.defaultdict(dict))\n",
    "\n",
    "with mp.Pool(cpu_count) as pool:\n",
    "    for res in pool.imap(bleu_scores, read_args()):\n",
    "        langs, sys_name, scores = res\n",
    "        sys_scores[langs][sys_name].update(scores)\n",
    "print(\"Done\")"
   ]
  },
  {
   "cell_type": "code",
   "execution_count": 41,
   "metadata": {},
   "outputs": [
    {
     "data": {
      "text/plain": [
       "(0.8660254037844386, 0.011724811003954649)"
      ]
     },
     "execution_count": 41,
     "metadata": {},
     "output_type": "execute_result"
    }
   ],
   "source": [
    "from scipy import stats\n",
    "import numpy as np\n",
    "a = np.array([0, 0, 0, 1, 1, 1, 1])\n",
    "b = np.arange(7)\n",
    "stats.pearsonr(a, b)"
   ]
  },
  {
   "cell_type": "code",
   "execution_count": 44,
   "metadata": {},
   "outputs": [],
   "source": [
    "metric_names = ['gold', 'sacre_bleu', 'rebleu_micro', 'rebleu_macro']"
   ]
  },
  {
   "cell_type": "code",
   "execution_count": 39,
   "metadata": {},
   "outputs": [
    {
     "data": {
      "text/plain": [
       "dict_keys(['en-cs', 'en-gu', 'en-lt', 'de-cs', 'en-kk', 'fi-en', 'zh-en', 'en-zh', 'fr-de', 'ru-en', 'kk-en', 'gu-en', 'lt-en', 'en-de', 'en-ru', 'en-fi', 'de-en', 'de-fr'])"
      ]
     },
     "execution_count": 39,
     "metadata": {},
     "output_type": "execute_result"
    }
   ],
   "source": [
    "sys_scores.keys()"
   ]
  },
  {
   "cell_type": "code",
   "execution_count": 47,
   "metadata": {},
   "outputs": [
    {
     "name": "stdout",
     "output_type": "stream",
     "text": [
      "Lang \t sacre_bleu\trebleu_micro\trebleu_macro \t DeltaMicro\t DeltaMacro\n",
      "en-cs\t0.991\t0.982\t0.982\t-0.009\t-0.009\n",
      "en-gu\t0.864\t0.845\t0.800\t-0.018\t-0.064\n",
      "en-lt\t0.951\t1.000\t1.000\t0.049\t0.049\n",
      "de-cs\t0.900\t0.991\t1.000\t0.091\t0.100\n",
      "en-kk\t0.627\t0.718\t0.764\t0.091\t0.136\n",
      "fi-en\t0.916\t0.958\t0.972\t0.042\t0.056\n",
      "zh-en\t0.857\t0.861\t0.879\t0.004\t0.021\n",
      "en-zh\t0.762\t0.685\t0.490\t-0.077\t-0.273\n",
      "fr-de\t0.855\t0.855\t0.855\t0.000\t0.000\n",
      "ru-en\t0.846\t0.829\t0.846\t-0.018\t0.000\n",
      "kk-en\t0.900\t0.909\t0.927\t0.009\t0.027\n",
      "gu-en\t0.864\t0.918\t0.955\t0.055\t0.091\n",
      "lt-en\t0.955\t0.955\t0.955\t0.000\t0.000\n",
      "en-de\t0.904\t0.883\t0.887\t-0.021\t-0.017\n",
      "en-ru\t0.944\t0.993\t0.979\t0.049\t0.035\n",
      "en-fi\t0.923\t0.972\t0.972\t0.049\t0.049\n",
      "de-en\t0.825\t0.825\t0.870\t0.000\t0.046\n",
      "de-fr\t0.945\t0.945\t0.982\t0.000\t0.036\n"
     ]
    }
   ],
   "source": [
    "names = \"\\t\".join(metric_names[1:])\n",
    "print(f'Lang \\t {names} \\t DeltaMicro\\t DeltaMacro')\n",
    "\n",
    "for langs in selected_langs:\n",
    "    arr = [[d[m] for m in metric_names] for d in sys_scores[langs].values()]\n",
    "    arr = np.array(arr)\n",
    "    line = []\n",
    "    for i in range(1, len(metric_names)):\n",
    "        rho, p_val = stats.spearmanr(arr[:, 0], arr[:, i])\n",
    "        line.append(rho)\n",
    "    line.append(line[1] - line[0])\n",
    "    line.append(line[2] - line[0])\n",
    "    line = [langs] + [f'{x:.3f}' for x in line]\n",
    "    print('\\t'.join(line))\n"
   ]
  },
  {
   "cell_type": "code",
   "execution_count": 42,
   "metadata": {},
   "outputs": [
    {
     "name": "stdout",
     "output_type": "stream",
     "text": [
      "Lang \t sacre_bleu\trebleu_micro\trebleu_macro \t DeltaMicro\t DeltaMacro\n",
      "en-cs\t0.991\t0.982\t0.982\t-0.009\t-0.009\n",
      "en-gu\t0.864\t0.845\t0.800\t-0.018\t-0.064\n",
      "en-lt\t0.951\t1.000\t1.000\t0.049\t0.049\n",
      "de-cs\t0.900\t0.991\t1.000\t0.091\t0.100\n",
      "en-kk\t0.627\t0.764\t0.791\t0.136\t0.164\n",
      "fi-en\t0.916\t0.958\t0.972\t0.042\t0.056\n",
      "zh-en\t0.857\t0.861\t0.879\t0.004\t0.021\n",
      "en-zh\t0.755\t0.762\t0.497\t0.007\t-0.259\n",
      "fr-de\t0.855\t0.855\t0.855\t0.000\t0.000\n",
      "ru-en\t0.846\t0.824\t0.846\t-0.022\t0.000\n",
      "kk-en\t0.900\t0.927\t0.891\t0.027\t-0.009\n",
      "gu-en\t0.864\t0.909\t0.936\t0.045\t0.073\n",
      "lt-en\t0.955\t0.955\t0.955\t0.000\t0.000\n",
      "en-de\t0.904\t0.883\t0.887\t-0.021\t-0.017\n",
      "en-ru\t0.944\t0.979\t0.979\t0.035\t0.035\n",
      "en-fi\t0.923\t0.979\t0.972\t0.056\t0.049\n",
      "de-en\t0.825\t0.850\t0.870\t0.025\t0.046\n",
      "de-fr\t0.945\t0.936\t0.982\t-0.009\t0.036\n"
     ]
    }
   ],
   "source": [
    "names = \"\\t\".join(metric_names[1:])\n",
    "print(f'Lang \\t {names} \\t DeltaMicro\\t DeltaMacro')\n",
    "\n",
    "for langs in selected_langs:\n",
    "    arr = [[d[m] for m in metric_names] for d in sys_scores[langs].values()]\n",
    "    arr = np.array(arr)\n",
    "    line = []\n",
    "    for i in range(1, len(metric_names)):\n",
    "        rho, p_val = stats.spearmanr(arr[:, 0], arr[:, i])\n",
    "        line.append(rho)\n",
    "    line.append(line[1] - line[0])\n",
    "    line.append(line[2] - line[0])\n",
    "    line = [langs] + [f'{x:.3f}' for x in line]\n",
    "    print('\\t'.join(line))\n"
   ]
  },
  {
   "cell_type": "markdown",
   "metadata": {},
   "source": [
    "---\n",
    "\n",
    "# REBLEU"
   ]
  },
  {
   "cell_type": "code",
   "execution_count": 5,
   "metadata": {},
   "outputs": [
    {
     "name": "stdout",
     "output_type": "stream",
     "text": [
      "The autoreload extension is already loaded. To reload it, use:\n",
      "  %reload_ext autoreload\n"
     ]
    }
   ],
   "source": [
    "%load_ext autoreload\n",
    "%autoreload 2"
   ]
  },
  {
   "cell_type": "code",
   "execution_count": 16,
   "metadata": {},
   "outputs": [],
   "source": [
    "import sacrebleu\n",
    "from sacrebleu import corpus_bleu, TOKENIZERS, corpus_rebleu\n",
    "\n",
    "from pathlib import Path\n",
    "import csv\n",
    "import collections as coll\n",
    "import logging as log\n",
    "\n",
    "log.basicConfig(level=log.INFO)\n",
    "\n",
    "sacrebleu.__version__ \n",
    "assert sacrebleu.__version__ == '1.4.6'"
   ]
  },
  {
   "cell_type": "code",
   "execution_count": null,
   "metadata": {},
   "outputs": [],
   "source": []
  },
  {
   "cell_type": "code",
   "execution_count": 7,
   "metadata": {},
   "outputs": [
    {
     "data": {
      "text/plain": [
       "['cat sat on lazy mat']"
      ]
     },
     "execution_count": 7,
     "metadata": {},
     "output_type": "execute_result"
    }
   ],
   "source": [
    "from typing import List, Set\n",
    "import re\n",
    "\n",
    "def replace_one_word(word:str, lines: List[str], repl=''):\n",
    "    assert isinstance(lines, list)\n",
    "    assert isinstance(word, str)\n",
    "    res = []\n",
    "    space_patt = re.compile(r' +')\n",
    "    for line in lines:\n",
    "        if word in line:\n",
    "            line = ' '.join(repl if tok == word else tok for tok in line.split())\n",
    "            line = space_patt.sub(' ', line).strip()\n",
    "        res.append(line)\n",
    "    return res\n",
    "\n",
    "replace_one_word('the', ['the cat sat on the lazy mat'], repl='')"
   ]
  },
  {
   "cell_type": "code",
   "execution_count": 8,
   "metadata": {},
   "outputs": [
    {
     "name": "stderr",
     "output_type": "stream",
     "text": [
      "INFO:root:2000 lines in ../wmt19/wmt19-submitted-data/txt/references/newstest2019-deen-ref.en\n"
     ]
    }
   ],
   "source": [
    "\n",
    "def read_lines(path):\n",
    "    with path.open(encoding='utf8', errors='ignore') as f:\n",
    "        return [line.strip() for line in f]\n",
    "    \n",
    "deen_ref = Path('../wmt19/wmt19-submitted-data/txt/references/newstest2019-deen-ref.en')\n",
    "tokenizer = TOKENIZERS['13a']\n",
    "\n",
    "lines = [tokenizer(line.lower()) for line in read_lines(deen_ref)]\n",
    "log.info(f'{len(lines)} lines in {deen_ref}')\n",
    "sys = lines\n",
    "refs = [lines]"
   ]
  },
  {
   "cell_type": "code",
   "execution_count": 9,
   "metadata": {},
   "outputs": [
    {
     "data": {
      "text/plain": [
       "([('the', 3012), ('.', 1902), (',', 1592), ('of', 849), ('in', 827)],\n",
       " [('extra-time', 1),\n",
       "  ('christopher', 1),\n",
       "  ('nkunku', 1),\n",
       "  ('groundbreaking', 1),\n",
       "  ('belgrade', 1)],\n",
       " '\\n',\n",
       " 6933)"
      ]
     },
     "execution_count": 9,
     "metadata": {},
     "output_type": "execute_result"
    }
   ],
   "source": [
    "import collections as coll\n",
    "def term_frequencies(lines):\n",
    "    toks = (t for l in lines for t in l.split())\n",
    "    stats = coll.Counter(toks)\n",
    "    stats = sorted(stats.items(), reverse=True, key=lambda x: x[1])\n",
    "    return stats\n",
    "\n",
    "tfreqs = term_frequencies(lines)\n",
    "tfreqs[:5], tfreqs[-5:], '\\n', len(tfreqs)"
   ]
  },
  {
   "cell_type": "code",
   "execution_count": 10,
   "metadata": {},
   "outputs": [
    {
     "data": {
      "text/plain": [
       "1.0"
      ]
     },
     "execution_count": 10,
     "metadata": {},
     "output_type": "execute_result"
    }
   ],
   "source": [
    "corpus_rebleu(sys, refs, force=True).score"
   ]
  },
  {
   "cell_type": "code",
   "execution_count": 60,
   "metadata": {},
   "outputs": [
    {
     "name": "stdout",
     "output_type": "stream",
     "text": [
      "cpus 36\n",
      "10.00%... 20.00%... 30.00%... 40.00%... 50.00%... 60.00%... 70.00%... 80.00%... 90.00%... 100.00%... "
     ]
    }
   ],
   "source": [
    "import multiprocessing as mp\n",
    "import os\n",
    "cpu_count = mp.cpu_count()\n",
    "if 'SLURM_CPUS_ON_NODE' in os.environ:\n",
    "    cpu_count = int(os.environ['SLURM_CPUS_ON_NODE'])\n",
    "print('cpus', cpu_count)\n",
    "\n",
    "def compute_bleu(args):\n",
    "    word, freq = args\n",
    "    sys = replace_one_word(word, lines, repl='ugwehjsdfelasyigdfu')\n",
    "    bleu = corpus_bleu(sys, refs, force=True)\n",
    "    macro_rebleu = corpus_rebleu(sys, refs, force=True, average='macro', smooth_value=0,  max_order=4)\n",
    "    micro_rebleu = corpus_rebleu(sys, refs, force=True, average='micro', smooth_value=0, max_order=4)\n",
    "    return [word, freq, bleu.score, macro_rebleu.score, micro_rebleu.score]\n",
    "\n",
    "points = []\n",
    "with mp.Pool(cpu_count) as pool:\n",
    "\n",
    "    data = tfreqs[-50:]\n",
    "    n = len(data)    \n",
    "    for stat in pool.imap(compute_bleu, data):\n",
    "        points.append(stat)\n",
    "        if len(points) % max(int(n / 10), 5) == 0:\n",
    "            print(f\"{100 * len(points) / len(data):.2f}%...\", end=' ')"
   ]
  },
  {
   "cell_type": "code",
   "execution_count": 61,
   "metadata": {},
   "outputs": [
    {
     "data": {
      "image/png": "[encoded data removed]",
      "text/plain": [
       "<Figure size 1728x576 with 1 Axes>"
      ]
     },
     "metadata": {},
     "output_type": "display_data"
    }
   ],
   "source": [
    "import numpy as np\n",
    "import matplotlib.pyplot as plt\n",
    "import seaborn as sns\n",
    "\n",
    "def plot_histogram(x, ys, yscale='log', save=None):\n",
    "    \n",
    "    fig = plt.figure(figsize=(24, 8), )\n",
    "    fig.tight_layout()\n",
    "    for name, y in ys:\n",
    "        plt.plot(x, y, label=name)\n",
    "\n",
    "    plt.xticks(rotation=90) \n",
    "    plt.yscale(yscale)\n",
    "    plt.legend(loc='upper right')\n",
    "    if save:\n",
    "        log.info(f'Saving to {save}')\n",
    "        plt.savefig(save)\n",
    "    plt.show()\n",
    "    \n",
    "\n",
    "pts = points\n",
    "x = [pt[0] for pt in pts]\n",
    "uniform = [1/len(tfreqs)] * len(pts)\n",
    "freqs = [pt[1] for pt in pts]\n",
    "bleu = [100 - pt[2] for pt in pts]\n",
    "macro_rebleu = [100 *(1 - pt[3]) for pt in pts]\n",
    "micro_rebleu = [100 *(1 - pt[4]) for pt in pts]\n",
    "\n",
    "\n",
    "sns.set(font_scale=1.2)\n",
    "ys = [\n",
    "    \n",
    "      ('Uniform', uniform),\n",
    "      ('BLEU', bleu),\n",
    "      ('macro_ReBLEU', macro_rebleu),\n",
    "      ('micro_ReBLEU', micro_rebleu)\n",
    "     ]\n",
    "# save='bleu-vs-rebleu-viz'\n",
    "plot_histogram(x, ys, yscale='linear')"
   ]
  },
  {
   "cell_type": "code",
   "execution_count": 9,
   "metadata": {},
   "outputs": [
    {
     "data": {
      "text/plain": [
       "'/nas/material02/users/tg/projects/beter-bleu/sacre-BLEU/sacrebleu/__init__.py'"
      ]
     },
     "execution_count": 9,
     "metadata": {},
     "output_type": "execute_result"
    }
   ],
   "source": []
  },
  {
   "cell_type": "code",
   "execution_count": null,
   "metadata": {},
   "outputs": [],
   "source": []
  },
  {
   "cell_type": "code",
   "execution_count": null,
   "metadata": {},
   "outputs": [],
   "source": []
  }
 ],
 "metadata": {
  "kernelspec": {
   "display_name": "Python 3",
   "language": "python",
   "name": "python3"
  },
  "language_info": {
   "codemirror_mode": {
    "name": "ipython",
    "version": 3
   },
   "file_extension": ".py",
   "mimetype": "text/x-python",
   "name": "python",
   "nbconvert_exporter": "python",
   "pygments_lexer": "ipython3",
   "version": "3.7.1"
  }
 },
 "nbformat": 4,
 "nbformat_minor": 2
}
