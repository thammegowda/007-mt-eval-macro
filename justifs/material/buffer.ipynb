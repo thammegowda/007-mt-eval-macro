{
 "cells": [
  {
   "cell_type": "markdown",
   "source": [
    "This is a buffer notebook used in exploration phase.\n",
    "\n",
    "look at correlations.py for finished script"
   ],
   "metadata": {
    "collapsed": false
   }
  },
  {
   "cell_type": "code",
   "execution_count": 1,
   "metadata": {
    "collapsed": true
   },
   "outputs": [
    {
     "data": {
      "text/plain": "                   expt                 Translation  BLEU  MacroF1  MicroF1  \\\n0    2B-ANALYSIS-QUERY1                   cnn-build  20.8     15.8     51.1   \n1    2B-ANALYSIS-QUERY1                 cnn-buildpc  28.0     31.2     60.9   \n2    2B-ANALYSIS-QUERY1           cnn-buildpc-tuned  30.1     32.3     62.3   \n3    2B-ANALYSIS-QUERY1              combo-20190813  33.0     35.2     65.4   \n4    2B-ANALYSIS-QUERY1              combo-20191027  32.5     34.6     65.1   \n..                  ...                         ...   ...      ...      ...   \n143       2S-DEV-QUERY1         t2t8k-bdpcbt-tnbdpc  44.7     46.0     73.0   \n144       2S-DEV-QUERY1  t2t8k-bdpcbt-tnbdpc-asrish  34.0     43.7     63.3   \n145       2S-DEV-QUERY1                 t2t8k-build  33.7     22.4     62.7   \n146       2S-DEV-QUERY1               t2t8k-buildpc  43.5     43.2     71.9   \n147       2S-DEV-QUERY1      t2trel8k-bdpcbt-tnbdpc  45.1     46.5     73.3   \n\n     ChrF1  BLEURTMean  BLEURTMedian  mAQWV    MAP  N_rel  P_miss_rel  \\\n0    0.461      -0.388        -0.410  0.278  0.352    206    0.638444   \n1    0.537      -0.002         0.052  0.547  0.586    206    0.370754   \n2    0.550       0.028         0.087  0.529  0.577    206    0.375601   \n3    0.588       0.138         0.196  0.605  0.645    206    0.309443   \n4    0.580       0.127         0.187  0.619  0.643    206    0.295581   \n..     ...         ...           ...    ...    ...    ...         ...   \n143  0.683       0.318         0.383  0.580  0.712    177    0.291274   \n144  0.635       0.196         0.256  0.579  0.722    177    0.289003   \n145  0.597      -0.222        -0.193  0.372  0.501    177    0.502508   \n146  0.673       0.255         0.323  0.603  0.714    177    0.273923   \n147  0.686       0.328         0.393  0.617  0.727    177    0.251962   \n\n         P_fa  \n0    0.002096  \n1    0.002068  \n2    0.002373  \n3    0.002133  \n4    0.002139  \n..        ...  \n143  0.003222  \n144  0.003302  \n145  0.003134  \n146  0.003086  \n147  0.003278  \n\n[148 rows x 13 columns]",
      "text/html": "<div>\n<style scoped>\n    .dataframe tbody tr th:only-of-type {\n        vertical-align: middle;\n    }\n\n    .dataframe tbody tr th {\n        vertical-align: top;\n    }\n\n    .dataframe thead th {\n        text-align: right;\n    }\n</style>\n<table border=\"1\" class=\"dataframe\">\n  <thead>\n    <tr style=\"text-align: right;\">\n      <th></th>\n      <th>expt</th>\n      <th>Translation</th>\n      <th>BLEU</th>\n      <th>MacroF1</th>\n      <th>MicroF1</th>\n      <th>ChrF1</th>\n      <th>BLEURTMean</th>\n      <th>BLEURTMedian</th>\n      <th>mAQWV</th>\n      <th>MAP</th>\n      <th>N_rel</th>\n      <th>P_miss_rel</th>\n      <th>P_fa</th>\n    </tr>\n  </thead>\n  <tbody>\n    <tr>\n      <th>0</th>\n      <td>2B-ANALYSIS-QUERY1</td>\n      <td>cnn-build</td>\n      <td>20.8</td>\n      <td>15.8</td>\n      <td>51.1</td>\n      <td>0.461</td>\n      <td>-0.388</td>\n      <td>-0.410</td>\n      <td>0.278</td>\n      <td>0.352</td>\n      <td>206</td>\n      <td>0.638444</td>\n      <td>0.002096</td>\n    </tr>\n    <tr>\n      <th>1</th>\n      <td>2B-ANALYSIS-QUERY1</td>\n      <td>cnn-buildpc</td>\n      <td>28.0</td>\n      <td>31.2</td>\n      <td>60.9</td>\n      <td>0.537</td>\n      <td>-0.002</td>\n      <td>0.052</td>\n      <td>0.547</td>\n      <td>0.586</td>\n      <td>206</td>\n      <td>0.370754</td>\n      <td>0.002068</td>\n    </tr>\n    <tr>\n      <th>2</th>\n      <td>2B-ANALYSIS-QUERY1</td>\n      <td>cnn-buildpc-tuned</td>\n      <td>30.1</td>\n      <td>32.3</td>\n      <td>62.3</td>\n      <td>0.550</td>\n      <td>0.028</td>\n      <td>0.087</td>\n      <td>0.529</td>\n      <td>0.577</td>\n      <td>206</td>\n      <td>0.375601</td>\n      <td>0.002373</td>\n    </tr>\n    <tr>\n      <th>3</th>\n      <td>2B-ANALYSIS-QUERY1</td>\n      <td>combo-20190813</td>\n      <td>33.0</td>\n      <td>35.2</td>\n      <td>65.4</td>\n      <td>0.588</td>\n      <td>0.138</td>\n      <td>0.196</td>\n      <td>0.605</td>\n      <td>0.645</td>\n      <td>206</td>\n      <td>0.309443</td>\n      <td>0.002133</td>\n    </tr>\n    <tr>\n      <th>4</th>\n      <td>2B-ANALYSIS-QUERY1</td>\n      <td>combo-20191027</td>\n      <td>32.5</td>\n      <td>34.6</td>\n      <td>65.1</td>\n      <td>0.580</td>\n      <td>0.127</td>\n      <td>0.187</td>\n      <td>0.619</td>\n      <td>0.643</td>\n      <td>206</td>\n      <td>0.295581</td>\n      <td>0.002139</td>\n    </tr>\n    <tr>\n      <th>...</th>\n      <td>...</td>\n      <td>...</td>\n      <td>...</td>\n      <td>...</td>\n      <td>...</td>\n      <td>...</td>\n      <td>...</td>\n      <td>...</td>\n      <td>...</td>\n      <td>...</td>\n      <td>...</td>\n      <td>...</td>\n      <td>...</td>\n    </tr>\n    <tr>\n      <th>143</th>\n      <td>2S-DEV-QUERY1</td>\n      <td>t2t8k-bdpcbt-tnbdpc</td>\n      <td>44.7</td>\n      <td>46.0</td>\n      <td>73.0</td>\n      <td>0.683</td>\n      <td>0.318</td>\n      <td>0.383</td>\n      <td>0.580</td>\n      <td>0.712</td>\n      <td>177</td>\n      <td>0.291274</td>\n      <td>0.003222</td>\n    </tr>\n    <tr>\n      <th>144</th>\n      <td>2S-DEV-QUERY1</td>\n      <td>t2t8k-bdpcbt-tnbdpc-asrish</td>\n      <td>34.0</td>\n      <td>43.7</td>\n      <td>63.3</td>\n      <td>0.635</td>\n      <td>0.196</td>\n      <td>0.256</td>\n      <td>0.579</td>\n      <td>0.722</td>\n      <td>177</td>\n      <td>0.289003</td>\n      <td>0.003302</td>\n    </tr>\n    <tr>\n      <th>145</th>\n      <td>2S-DEV-QUERY1</td>\n      <td>t2t8k-build</td>\n      <td>33.7</td>\n      <td>22.4</td>\n      <td>62.7</td>\n      <td>0.597</td>\n      <td>-0.222</td>\n      <td>-0.193</td>\n      <td>0.372</td>\n      <td>0.501</td>\n      <td>177</td>\n      <td>0.502508</td>\n      <td>0.003134</td>\n    </tr>\n    <tr>\n      <th>146</th>\n      <td>2S-DEV-QUERY1</td>\n      <td>t2t8k-buildpc</td>\n      <td>43.5</td>\n      <td>43.2</td>\n      <td>71.9</td>\n      <td>0.673</td>\n      <td>0.255</td>\n      <td>0.323</td>\n      <td>0.603</td>\n      <td>0.714</td>\n      <td>177</td>\n      <td>0.273923</td>\n      <td>0.003086</td>\n    </tr>\n    <tr>\n      <th>147</th>\n      <td>2S-DEV-QUERY1</td>\n      <td>t2trel8k-bdpcbt-tnbdpc</td>\n      <td>45.1</td>\n      <td>46.5</td>\n      <td>73.3</td>\n      <td>0.686</td>\n      <td>0.328</td>\n      <td>0.393</td>\n      <td>0.617</td>\n      <td>0.727</td>\n      <td>177</td>\n      <td>0.251962</td>\n      <td>0.003278</td>\n    </tr>\n  </tbody>\n</table>\n<p>148 rows × 13 columns</p>\n</div>"
     },
     "execution_count": 1,
     "metadata": {},
     "output_type": "execute_result"
    }
   ],
   "source": [
    "import pandas as pd\n",
    "\n",
    "df = pd.read_table('tables/Material-Joel-AQWV-MAP-2B2C2S.tsv', index_col=False).dropna()\n",
    "df\n"
   ]
  },
  {
   "cell_type": "code",
   "execution_count": 3,
   "outputs": [
    {
     "data": {
      "text/plain": "expt\n2B-ANALYSIS-QUERY1       14\n2B-DEV-QUERY1            10\n2B-DEVANALYSIS-QUERY1    11\n2C-ANALYSIS-QUERY1       29\n2C-DEV-QUERY1            26\n2C-DEVANALYSIS-QUERY1    26\n2S-ANALYSIS-QUERY1       11\n2S-DEV-QUERY1            10\n2S-DEVANALYSIS-QUERY1    11\nName: expt, dtype: int64"
     },
     "execution_count": 3,
     "metadata": {},
     "output_type": "execute_result"
    }
   ],
   "source": [
    "sample_sizes = df.groupby('expt')['expt'].count()\n",
    "sample_sizes"
   ],
   "metadata": {
    "collapsed": false,
    "pycharm": {
     "name": "#%%\n"
    }
   }
  },
  {
   "cell_type": "code",
   "execution_count": 6,
   "outputs": [
    {
     "name": "stdout",
     "output_type": "stream",
     "text": [
      "2B-ANALYSIS-QUERY1\n",
      "2B-DEV-QUERY1\n",
      "2B-DEVANALYSIS-QUERY1\n",
      "2C-ANALYSIS-QUERY1\n",
      "2C-DEV-QUERY1\n",
      "2C-DEVANALYSIS-QUERY1\n",
      "2S-ANALYSIS-QUERY1\n",
      "2S-DEV-QUERY1\n",
      "2S-DEVANALYSIS-QUERY1\n"
     ]
    }
   ],
   "source": [
    "for exp, count  in sample_sizes.iteritems():\n",
    "    print(exp)"
   ],
   "metadata": {
    "collapsed": false,
    "pycharm": {
     "name": "#%%\n"
    }
   }
  },
  {
   "cell_type": "code",
   "execution_count": 14,
   "outputs": [
    {
     "data": {
      "text/plain": "                  expt                  Translation  BLEU  MacroF1  MicroF1  \\\n0   2B-ANALYSIS-QUERY1                    cnn-build  20.8     15.8     51.1   \n1   2B-ANALYSIS-QUERY1                  cnn-buildpc  28.0     31.2     60.9   \n2   2B-ANALYSIS-QUERY1            cnn-buildpc-tuned  30.1     32.3     62.3   \n3   2B-ANALYSIS-QUERY1               combo-20190813  33.0     35.2     65.4   \n4   2B-ANALYSIS-QUERY1               combo-20191027  32.5     34.6     65.1   \n5   2B-ANALYSIS-QUERY1                          ggl  30.5     38.8     64.1   \n6   2B-ANALYSIS-QUERY1                  rtg028-gelu  30.0     36.6     63.7   \n7   2B-ANALYSIS-QUERY1                       rtg031  31.4     31.8     63.5   \n8   2B-ANALYSIS-QUERY1                         sbmt  22.2     16.5     55.6   \n9   2B-ANALYSIS-QUERY1                       sbmtpc  24.2     27.0     59.5   \n10  2B-ANALYSIS-QUERY1                  t2t8k-build  20.9     18.4     53.9   \n11  2B-ANALYSIS-QUERY1                t2t8k-buildpc  30.6     36.8     64.0   \n12  2B-ANALYSIS-QUERY1           t2t8k-buildpc-bt3M  29.7     35.1     63.5   \n13  2B-ANALYSIS-QUERY1  t2t8k-buildpcbt-tunebuildpc  32.6     39.4     65.6   \n\n    ChrF1  BLEURTMean  BLEURTMedian  mAQWV    MAP  N_rel  P_miss_rel      P_fa  \n0   0.461      -0.388        -0.410  0.278  0.352    206    0.638444  0.002096  \n1   0.537      -0.002         0.052  0.547  0.586    206    0.370754  0.002068  \n2   0.550       0.028         0.087  0.529  0.577    206    0.375601  0.002373  \n3   0.588       0.138         0.196  0.605  0.645    206    0.309443  0.002133  \n4   0.580       0.127         0.187  0.619  0.643    206    0.295581  0.002139  \n5   0.582       0.183         0.239  0.441  0.508    206    0.484867  0.001856  \n6   0.585       0.073         0.131  0.574  0.612    206    0.339844  0.002150  \n7   0.592       0.017         0.087  0.488  0.540    206    0.417961  0.002357  \n8   0.496      -0.551        -0.656  0.360  0.445    206    0.555421  0.002117  \n9   0.529      -0.305        -0.331  0.617  0.651    206    0.298451  0.002123  \n10  0.504      -0.395        -0.408  0.275  0.365    206    0.636664  0.002210  \n11  0.587       0.085         0.146  0.568  0.606    206    0.346344  0.002133  \n12  0.578       0.045         0.109  0.559  0.593    206    0.347110  0.002335  \n13  0.601       0.157         0.221  0.613  0.656    206    0.301044  0.002144  ",
      "text/html": "<div>\n<style scoped>\n    .dataframe tbody tr th:only-of-type {\n        vertical-align: middle;\n    }\n\n    .dataframe tbody tr th {\n        vertical-align: top;\n    }\n\n    .dataframe thead th {\n        text-align: right;\n    }\n</style>\n<table border=\"1\" class=\"dataframe\">\n  <thead>\n    <tr style=\"text-align: right;\">\n      <th></th>\n      <th>expt</th>\n      <th>Translation</th>\n      <th>BLEU</th>\n      <th>MacroF1</th>\n      <th>MicroF1</th>\n      <th>ChrF1</th>\n      <th>BLEURTMean</th>\n      <th>BLEURTMedian</th>\n      <th>mAQWV</th>\n      <th>MAP</th>\n      <th>N_rel</th>\n      <th>P_miss_rel</th>\n      <th>P_fa</th>\n    </tr>\n  </thead>\n  <tbody>\n    <tr>\n      <th>0</th>\n      <td>2B-ANALYSIS-QUERY1</td>\n      <td>cnn-build</td>\n      <td>20.8</td>\n      <td>15.8</td>\n      <td>51.1</td>\n      <td>0.461</td>\n      <td>-0.388</td>\n      <td>-0.410</td>\n      <td>0.278</td>\n      <td>0.352</td>\n      <td>206</td>\n      <td>0.638444</td>\n      <td>0.002096</td>\n    </tr>\n    <tr>\n      <th>1</th>\n      <td>2B-ANALYSIS-QUERY1</td>\n      <td>cnn-buildpc</td>\n      <td>28.0</td>\n      <td>31.2</td>\n      <td>60.9</td>\n      <td>0.537</td>\n      <td>-0.002</td>\n      <td>0.052</td>\n      <td>0.547</td>\n      <td>0.586</td>\n      <td>206</td>\n      <td>0.370754</td>\n      <td>0.002068</td>\n    </tr>\n    <tr>\n      <th>2</th>\n      <td>2B-ANALYSIS-QUERY1</td>\n      <td>cnn-buildpc-tuned</td>\n      <td>30.1</td>\n      <td>32.3</td>\n      <td>62.3</td>\n      <td>0.550</td>\n      <td>0.028</td>\n      <td>0.087</td>\n      <td>0.529</td>\n      <td>0.577</td>\n      <td>206</td>\n      <td>0.375601</td>\n      <td>0.002373</td>\n    </tr>\n    <tr>\n      <th>3</th>\n      <td>2B-ANALYSIS-QUERY1</td>\n      <td>combo-20190813</td>\n      <td>33.0</td>\n      <td>35.2</td>\n      <td>65.4</td>\n      <td>0.588</td>\n      <td>0.138</td>\n      <td>0.196</td>\n      <td>0.605</td>\n      <td>0.645</td>\n      <td>206</td>\n      <td>0.309443</td>\n      <td>0.002133</td>\n    </tr>\n    <tr>\n      <th>4</th>\n      <td>2B-ANALYSIS-QUERY1</td>\n      <td>combo-20191027</td>\n      <td>32.5</td>\n      <td>34.6</td>\n      <td>65.1</td>\n      <td>0.580</td>\n      <td>0.127</td>\n      <td>0.187</td>\n      <td>0.619</td>\n      <td>0.643</td>\n      <td>206</td>\n      <td>0.295581</td>\n      <td>0.002139</td>\n    </tr>\n    <tr>\n      <th>5</th>\n      <td>2B-ANALYSIS-QUERY1</td>\n      <td>ggl</td>\n      <td>30.5</td>\n      <td>38.8</td>\n      <td>64.1</td>\n      <td>0.582</td>\n      <td>0.183</td>\n      <td>0.239</td>\n      <td>0.441</td>\n      <td>0.508</td>\n      <td>206</td>\n      <td>0.484867</td>\n      <td>0.001856</td>\n    </tr>\n    <tr>\n      <th>6</th>\n      <td>2B-ANALYSIS-QUERY1</td>\n      <td>rtg028-gelu</td>\n      <td>30.0</td>\n      <td>36.6</td>\n      <td>63.7</td>\n      <td>0.585</td>\n      <td>0.073</td>\n      <td>0.131</td>\n      <td>0.574</td>\n      <td>0.612</td>\n      <td>206</td>\n      <td>0.339844</td>\n      <td>0.002150</td>\n    </tr>\n    <tr>\n      <th>7</th>\n      <td>2B-ANALYSIS-QUERY1</td>\n      <td>rtg031</td>\n      <td>31.4</td>\n      <td>31.8</td>\n      <td>63.5</td>\n      <td>0.592</td>\n      <td>0.017</td>\n      <td>0.087</td>\n      <td>0.488</td>\n      <td>0.540</td>\n      <td>206</td>\n      <td>0.417961</td>\n      <td>0.002357</td>\n    </tr>\n    <tr>\n      <th>8</th>\n      <td>2B-ANALYSIS-QUERY1</td>\n      <td>sbmt</td>\n      <td>22.2</td>\n      <td>16.5</td>\n      <td>55.6</td>\n      <td>0.496</td>\n      <td>-0.551</td>\n      <td>-0.656</td>\n      <td>0.360</td>\n      <td>0.445</td>\n      <td>206</td>\n      <td>0.555421</td>\n      <td>0.002117</td>\n    </tr>\n    <tr>\n      <th>9</th>\n      <td>2B-ANALYSIS-QUERY1</td>\n      <td>sbmtpc</td>\n      <td>24.2</td>\n      <td>27.0</td>\n      <td>59.5</td>\n      <td>0.529</td>\n      <td>-0.305</td>\n      <td>-0.331</td>\n      <td>0.617</td>\n      <td>0.651</td>\n      <td>206</td>\n      <td>0.298451</td>\n      <td>0.002123</td>\n    </tr>\n    <tr>\n      <th>10</th>\n      <td>2B-ANALYSIS-QUERY1</td>\n      <td>t2t8k-build</td>\n      <td>20.9</td>\n      <td>18.4</td>\n      <td>53.9</td>\n      <td>0.504</td>\n      <td>-0.395</td>\n      <td>-0.408</td>\n      <td>0.275</td>\n      <td>0.365</td>\n      <td>206</td>\n      <td>0.636664</td>\n      <td>0.002210</td>\n    </tr>\n    <tr>\n      <th>11</th>\n      <td>2B-ANALYSIS-QUERY1</td>\n      <td>t2t8k-buildpc</td>\n      <td>30.6</td>\n      <td>36.8</td>\n      <td>64.0</td>\n      <td>0.587</td>\n      <td>0.085</td>\n      <td>0.146</td>\n      <td>0.568</td>\n      <td>0.606</td>\n      <td>206</td>\n      <td>0.346344</td>\n      <td>0.002133</td>\n    </tr>\n    <tr>\n      <th>12</th>\n      <td>2B-ANALYSIS-QUERY1</td>\n      <td>t2t8k-buildpc-bt3M</td>\n      <td>29.7</td>\n      <td>35.1</td>\n      <td>63.5</td>\n      <td>0.578</td>\n      <td>0.045</td>\n      <td>0.109</td>\n      <td>0.559</td>\n      <td>0.593</td>\n      <td>206</td>\n      <td>0.347110</td>\n      <td>0.002335</td>\n    </tr>\n    <tr>\n      <th>13</th>\n      <td>2B-ANALYSIS-QUERY1</td>\n      <td>t2t8k-buildpcbt-tunebuildpc</td>\n      <td>32.6</td>\n      <td>39.4</td>\n      <td>65.6</td>\n      <td>0.601</td>\n      <td>0.157</td>\n      <td>0.221</td>\n      <td>0.613</td>\n      <td>0.656</td>\n      <td>206</td>\n      <td>0.301044</td>\n      <td>0.002144</td>\n    </tr>\n  </tbody>\n</table>\n</div>"
     },
     "execution_count": 14,
     "metadata": {},
     "output_type": "execute_result"
    }
   ],
   "source": [
    "exp1 = df[df['expt'] == '2B-ANALYSIS-QUERY1']\n",
    "exp1"
   ],
   "metadata": {
    "collapsed": false,
    "pycharm": {
     "name": "#%%\n"
    }
   }
  },
  {
   "cell_type": "code",
   "execution_count": 21,
   "outputs": [
    {
     "name": "stdout",
     "output_type": "stream",
     "text": [
      "0.784|0.001\n",
      "0.495|0.014\n"
     ]
    }
   ],
   "source": [
    "from scipy.stats import kendalltau, pearsonr\n",
    "r, r_p = pearsonr(exp1['BLEU'], exp1['MAP'])\n",
    "t, t_p = kendalltau(exp1['BLEU'], exp1['MAP'])\n",
    "print('%.3f|%.3f' % (r, r_p))\n",
    "print('%.3f|%.3f' % (t, t_p))"
   ],
   "metadata": {
    "collapsed": false,
    "pycharm": {
     "name": "#%%\n"
    }
   }
  },
  {
   "cell_type": "code",
   "execution_count": 19,
   "outputs": [
    {
     "data": {
      "text/plain": "0.4945054945054945"
     },
     "execution_count": 19,
     "metadata": {},
     "output_type": "execute_result"
    }
   ],
   "source": [
    "t[0]"
   ],
   "metadata": {
    "collapsed": false,
    "pycharm": {
     "name": "#%%\n"
    }
   }
  },
  {
   "cell_type": "code",
   "execution_count": null,
   "outputs": [],
   "source": [],
   "metadata": {
    "collapsed": false,
    "pycharm": {
     "name": "#%%\n"
    }
   }
  }
 ],
 "metadata": {
  "kernelspec": {
   "display_name": "Python 3",
   "language": "python",
   "name": "python3"
  },
  "language_info": {
   "codemirror_mode": {
    "name": "ipython",
    "version": 2
   },
   "file_extension": ".py",
   "mimetype": "text/x-python",
   "name": "python",
   "nbconvert_exporter": "python",
   "pygments_lexer": "ipython2",
   "version": "2.7.6"
  }
 },
 "nbformat": 4,
 "nbformat_minor": 0
}